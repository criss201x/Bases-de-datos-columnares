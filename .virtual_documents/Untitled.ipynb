#!pip install cassandra-driver
from cassandra.cluster import Cluster
import pandas as pd
import numpy as np
from cassandra.cqlengine import columns
from cassandra.cqlengine.models import Model
from cassandra.cqlengine import models
from cassandra.cqlengine import connection
#esta libreria sincroniza la base de datos y crea la base de datos 	
from cassandra.cqlengine.management import sync_table


cluster = Cluster(['localhost'], port=9042)
session = cluster.connect()


#leemos nuestro fichero csv 
#especificamos la ruta del fichero (para saber nuestra ruta podemos ejecutar el comando !ls similar a linux) 	
suicides = pd.read_csv('./suicidios.csv', sep = ',', thousands=b',', header=0)


#tenemos nuestro dataframe 	
suicides.head()


#podemos ver que hay unas columnas algo extrañas	
suicides.columns


suicides.rename({'suicides/100k pop':'suicides_by_100k_pob', 
                 'HDI for year':'HDI_for_year',
                 ' gdp_for_year ($) ': 'pib_for_year',
                 'gdp_per_capita ($)': 'pib_per_capita'}, axis=1, inplace=True)


#el implace es un reemplazo definitivo mas no una copia 	
suicides.head()



suicides.columns



#¿que tipos de datos son nuestras columnas?
suicides.dtypes



#tenemos una descripcion general de nuestra tabla con caracteristicas como el conteo, la media, la desviacion estandar, el maximo y el minimo etc...
suicides.describe()


#vamos a definir nuestros valores vacios (NaN), el .sum() hace una sumatoria de estos valores vacios 	
print(f"Existen {np.isnan(suicides.year).sum()} valores nan para la variable 'year'")
print(f"Existen {np.isnan(suicides.suicides_no).sum()} valores nan para la variable 'suicides_no'")
print(f"Existen {np.isnan(suicides.population).sum()} valores nan para la variable 'population'")
print(f"Existen {np.isnan(suicides.suicides_by_100k_pob).sum()} valores nan para la variable 'suicides_by_100k_pob'")
print(f"Existen {np.isnan(suicides.HDI_for_year).sum()} valores nan para la variable 'HDI_for_year'")
print(f"Existen {np.isnan(suicides.pib_per_capita).sum()} valores nan para la variable 'pib_per_capita'")


#eliminamos esta variable axis 1 para nivel de columna y implace para eliminar directamente y no copiar o replicar 
suicides.drop('HDI_for_year', axis=1, inplace=True)


suicides.columns


# ## Creamos nuestro modelo de datos, comenzamos creando el keyspace y la tabla

# In[18]:


session.execute(
    """CREATE KEYSPACE IF NOT EXISTS PROYECTO WITH replication = {'class': 'SimpleStrategy', 
                                                    'replication_factor' : 1}; """
)


#usamos nuestro keyspace es decir que tenemos nuestra variable session apuntando a ese keyspace	
session.set_keyspace("proyecto")


class Suicide(Model):
    country = columns.Text(primary_key = True)
    year = columns.Integer(primary_key = True)
    sex  = columns.Text(primary_key = True)
    age = columns.Text(primary_key = True, clustering_order="ASC")
    suicides_no = columns.Integer()
    population = columns.BigInt()
    suicides_by_100k_pob = columns.Float()
    country_year = columns.Text()
    pib_for_year = columns.BigInt()
    pib_per_capita = columns.BigInt()
    generation = columns.Text()


#debemos registrar nuestra conexion le damos un nombre y le asignamos nuestra variable sesion 
connection.register_connection('cluster3', session=session)
sync_table(Suicide, keyspaces=['proyecto'],connections=['cluster3'])


#verificamos que nuestra tabla fue generada exitosamente 	
for row in session.execute("""select column_name, kind, type from system_schema.columns WHERE keyspace_name = 'proyecto' ;"""):
    print(row)


# ### Vamos a insertar los datos de suicidio en la tabla


#vamos a 'volcar' los datos de nuestro dataframe en la tabla cassandra que acabamos de crear, esto lo haremos de manera secuencial fila a fila 
#por medio de un bucle for
#la variable index viene por defecto en el dataframe pero esta no se va a agregar en la base de datos 
#la '%s' equivale a los values fuera de la sentencia cql
#podemos limitar la cantidad de tuplas o registros que queremos pasar a nuestra base de datos con el metodo del dataframe suicides.head(n)
for index,value in suicides.iterrows():
    session.execute(""" INSERT INTO proyecto.suicide (country, year, sex, age, country_year, generation,  
                            pib_for_year, pib_per_capita, population,  suicides_by_100k_pob, 
                            suicides_no)
                        VALUES (%s, %s, %s, %s, %s, %s, %s, %s, %s, %s, %s)""",
                   (value['country'], value['year'], value['sex'], value['age'], 
                   value['country-year'], value['generation'], value['pib_for_year'], value['pib_per_capita'], 
                   value['population'], value['suicides_by_100k_pob'], value['suicides_no']) )


#podemos saber que tipo de variable es nuestra variable rows con el comando type(my_rows)	
all_rows = session.execute("""SELECT * FROM proyecto.suicide""")

for row in all_rows[:20]:
    print(row)


for row in all_rows[0:20]:
    print(f"""En {row['country']} en el año {row['year']} hubo {row['suicides_no']} suicidios de genero {row['sex']} con edades comprendidas en {row['age']} """)


# Ejecutar la consulta
num_paises = session.execute("""SELECT country FROM suicide""")

# Acumular resultados en una lista
rows = [row for row in num_paises]

# Crear el DataFrame
df_num_paises = pd.DataFrame(rows, columns=["country"])



df_num_paises.head()


suicide_greater_250 = session.execute(""" SELECT * FROM suicide WHERE suicides_no > 250""")


#de este modo no tendriamos problema 	
suicide_greater_250 = session.execute(""" SELECT * FROM suicide WHERE suicides_no > 250 ALLOW FILTERING""")
rows = [row for row in suicide_greater_250]

df_suicide_greater = pd.DataFrame(rows)


df_suicide_greater.head()



#creamos un indice secundario 
session.execute(""" CREATE INDEX IF NOT EXISTS sex_suicide ON suicide (sex)""")


#con nuestro indice secundario ya podemos filtrar por campos no pertenecientes a la primary key 	
female_suicides = session.execute(""" SELECT * FROM suicide WHERE sex = 'female'""")



rows = [row for row in female_suicides]

df_female_suicides = pd.DataFrame(rows)


df_female_suicides.head()


# #### ¿Cómo crear una vista materializada para poder filtrar por el campo generation y conteniendo unicamente los registros de paises con poblacion mayor a 10 millones de personas?
# 

# In[43]:

#creamos nuestra vista materializada es decir nuestra tabla proveniente de una consulta 
#las vistas materializadas no pueden tener nulos en las primary keys 
#le damos permiso a nuestra variable generacion para que se pueda filtrar, el resto de variables ya son primary key 
session.execute("""
    CREATE MATERIALIZED VIEW suicides_by_generation AS
        SELECT * FROM proyecto.suicide
        WHERE generation is not null and country is not null and 
        year is not null and age is not null and sex is not null and
        population > 10000000
        PRIMARY KEY (generation, country, year, age, sex)
    WITH comment='Vista materializada de generation';
""")


#consultamos nuestra vista materializada como si fuera una tabla mas 
generation_x = session.execute("""SELECT * FROM suicides_by_generation WHERE generation = 'Generation X'""")




