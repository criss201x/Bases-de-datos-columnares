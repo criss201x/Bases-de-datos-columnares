{
 "cells": [
  {
   "cell_type": "code",
   "execution_count": 1,
   "id": "959d27df-6b6b-4779-936b-ed6b5bb4631f",
   "metadata": {},
   "outputs": [],
   "source": [
    "#!pip install cassandra-driver\n",
    "from cassandra.cluster import Cluster\n",
    "import pandas as pd\n",
    "import numpy as np\n",
    "from cassandra.cqlengine import columns\n",
    "from cassandra.cqlengine.models import Model\n",
    "from cassandra.cqlengine import models\n",
    "from cassandra.cqlengine import connection\n",
    "#esta libreria sincroniza la base de datos y crea la base de datos \t\n",
    "from cassandra.cqlengine.management import sync_table"
   ]
  },
  {
   "cell_type": "code",
   "execution_count": 2,
   "id": "4f956101-ff07-402e-9cc7-0aed485682d7",
   "metadata": {},
   "outputs": [],
   "source": [
    "cluster = Cluster(['localhost'], port=9042)\n",
    "session = cluster.connect()"
   ]
  },
  {
   "cell_type": "code",
   "execution_count": 3,
   "id": "0b9dad65-072b-41ef-be8e-05e4558b189b",
   "metadata": {},
   "outputs": [],
   "source": [
    "#leemos nuestro fichero csv \n",
    "#especificamos la ruta del fichero (para saber nuestra ruta podemos ejecutar el comando !ls similar a linux) \t\n",
    "suicides = pd.read_csv('./suicidios.csv', sep = ',', thousands=b',', header=0)"
   ]
  },
  {
   "cell_type": "code",
   "execution_count": 4,
   "id": "5de0cd70-03a0-4fa7-9529-d8d14755d8ab",
   "metadata": {},
   "outputs": [
    {
     "data": {
      "text/html": [
       "<div>\n",
       "<style scoped>\n",
       "    .dataframe tbody tr th:only-of-type {\n",
       "        vertical-align: middle;\n",
       "    }\n",
       "\n",
       "    .dataframe tbody tr th {\n",
       "        vertical-align: top;\n",
       "    }\n",
       "\n",
       "    .dataframe thead th {\n",
       "        text-align: right;\n",
       "    }\n",
       "</style>\n",
       "<table border=\"1\" class=\"dataframe\">\n",
       "  <thead>\n",
       "    <tr style=\"text-align: right;\">\n",
       "      <th></th>\n",
       "      <th>country</th>\n",
       "      <th>year</th>\n",
       "      <th>sex</th>\n",
       "      <th>age</th>\n",
       "      <th>suicides_no</th>\n",
       "      <th>population</th>\n",
       "      <th>suicides/100k pop</th>\n",
       "      <th>country-year</th>\n",
       "      <th>HDI for year</th>\n",
       "      <th>gdp_for_year ($)</th>\n",
       "      <th>gdp_per_capita ($)</th>\n",
       "      <th>generation</th>\n",
       "    </tr>\n",
       "  </thead>\n",
       "  <tbody>\n",
       "    <tr>\n",
       "      <th>0</th>\n",
       "      <td>Albania</td>\n",
       "      <td>1987</td>\n",
       "      <td>male</td>\n",
       "      <td>15-24 years</td>\n",
       "      <td>21</td>\n",
       "      <td>312900</td>\n",
       "      <td>6.71</td>\n",
       "      <td>Albania1987</td>\n",
       "      <td>NaN</td>\n",
       "      <td>2156624900</td>\n",
       "      <td>796</td>\n",
       "      <td>Generation X</td>\n",
       "    </tr>\n",
       "    <tr>\n",
       "      <th>1</th>\n",
       "      <td>Albania</td>\n",
       "      <td>1987</td>\n",
       "      <td>male</td>\n",
       "      <td>35-54 years</td>\n",
       "      <td>16</td>\n",
       "      <td>308000</td>\n",
       "      <td>5.19</td>\n",
       "      <td>Albania1987</td>\n",
       "      <td>NaN</td>\n",
       "      <td>2156624900</td>\n",
       "      <td>796</td>\n",
       "      <td>Silent</td>\n",
       "    </tr>\n",
       "    <tr>\n",
       "      <th>2</th>\n",
       "      <td>Albania</td>\n",
       "      <td>1987</td>\n",
       "      <td>female</td>\n",
       "      <td>15-24 years</td>\n",
       "      <td>14</td>\n",
       "      <td>289700</td>\n",
       "      <td>4.83</td>\n",
       "      <td>Albania1987</td>\n",
       "      <td>NaN</td>\n",
       "      <td>2156624900</td>\n",
       "      <td>796</td>\n",
       "      <td>Generation X</td>\n",
       "    </tr>\n",
       "    <tr>\n",
       "      <th>3</th>\n",
       "      <td>Albania</td>\n",
       "      <td>1987</td>\n",
       "      <td>male</td>\n",
       "      <td>75+ years</td>\n",
       "      <td>1</td>\n",
       "      <td>21800</td>\n",
       "      <td>4.59</td>\n",
       "      <td>Albania1987</td>\n",
       "      <td>NaN</td>\n",
       "      <td>2156624900</td>\n",
       "      <td>796</td>\n",
       "      <td>G.I. Generation</td>\n",
       "    </tr>\n",
       "    <tr>\n",
       "      <th>4</th>\n",
       "      <td>Albania</td>\n",
       "      <td>1987</td>\n",
       "      <td>male</td>\n",
       "      <td>25-34 years</td>\n",
       "      <td>9</td>\n",
       "      <td>274300</td>\n",
       "      <td>3.28</td>\n",
       "      <td>Albania1987</td>\n",
       "      <td>NaN</td>\n",
       "      <td>2156624900</td>\n",
       "      <td>796</td>\n",
       "      <td>Boomers</td>\n",
       "    </tr>\n",
       "  </tbody>\n",
       "</table>\n",
       "</div>"
      ],
      "text/plain": [
       "   country  year     sex          age  suicides_no  population  \\\n",
       "0  Albania  1987    male  15-24 years           21      312900   \n",
       "1  Albania  1987    male  35-54 years           16      308000   \n",
       "2  Albania  1987  female  15-24 years           14      289700   \n",
       "3  Albania  1987    male    75+ years            1       21800   \n",
       "4  Albania  1987    male  25-34 years            9      274300   \n",
       "\n",
       "   suicides/100k pop country-year  HDI for year   gdp_for_year ($)   \\\n",
       "0               6.71  Albania1987           NaN          2156624900   \n",
       "1               5.19  Albania1987           NaN          2156624900   \n",
       "2               4.83  Albania1987           NaN          2156624900   \n",
       "3               4.59  Albania1987           NaN          2156624900   \n",
       "4               3.28  Albania1987           NaN          2156624900   \n",
       "\n",
       "   gdp_per_capita ($)       generation  \n",
       "0                 796     Generation X  \n",
       "1                 796           Silent  \n",
       "2                 796     Generation X  \n",
       "3                 796  G.I. Generation  \n",
       "4                 796          Boomers  "
      ]
     },
     "execution_count": 4,
     "metadata": {},
     "output_type": "execute_result"
    }
   ],
   "source": [
    "#tenemos nuestro dataframe \t\n",
    "suicides.head()"
   ]
  },
  {
   "cell_type": "code",
   "execution_count": 5,
   "id": "3bd8a55e-837c-4b1a-97bf-63abbe745bf5",
   "metadata": {},
   "outputs": [
    {
     "data": {
      "text/plain": [
       "Index(['country', 'year', 'sex', 'age', 'suicides_no', 'population',\n",
       "       'suicides/100k pop', 'country-year', 'HDI for year',\n",
       "       ' gdp_for_year ($) ', 'gdp_per_capita ($)', 'generation'],\n",
       "      dtype='object')"
      ]
     },
     "execution_count": 5,
     "metadata": {},
     "output_type": "execute_result"
    }
   ],
   "source": [
    "#podemos ver que hay unas columnas algo extrañas\t\n",
    "suicides.columns"
   ]
  },
  {
   "cell_type": "code",
   "execution_count": 6,
   "id": "f7fd5d99-41a8-45a3-bd12-d53ee8a71419",
   "metadata": {},
   "outputs": [],
   "source": [
    "suicides.rename({'suicides/100k pop':'suicides_by_100k_pob', \n",
    "                 'HDI for year':'HDI_for_year',\n",
    "                 ' gdp_for_year ($) ': 'pib_for_year',\n",
    "                 'gdp_per_capita ($)': 'pib_per_capita'}, axis=1, inplace=True)"
   ]
  },
  {
   "cell_type": "code",
   "execution_count": 7,
   "id": "85c2dc50-e3f7-4d76-b140-ac4e0145ba13",
   "metadata": {},
   "outputs": [
    {
     "data": {
      "text/html": [
       "<div>\n",
       "<style scoped>\n",
       "    .dataframe tbody tr th:only-of-type {\n",
       "        vertical-align: middle;\n",
       "    }\n",
       "\n",
       "    .dataframe tbody tr th {\n",
       "        vertical-align: top;\n",
       "    }\n",
       "\n",
       "    .dataframe thead th {\n",
       "        text-align: right;\n",
       "    }\n",
       "</style>\n",
       "<table border=\"1\" class=\"dataframe\">\n",
       "  <thead>\n",
       "    <tr style=\"text-align: right;\">\n",
       "      <th></th>\n",
       "      <th>country</th>\n",
       "      <th>year</th>\n",
       "      <th>sex</th>\n",
       "      <th>age</th>\n",
       "      <th>suicides_no</th>\n",
       "      <th>population</th>\n",
       "      <th>suicides_by_100k_pob</th>\n",
       "      <th>country-year</th>\n",
       "      <th>HDI_for_year</th>\n",
       "      <th>pib_for_year</th>\n",
       "      <th>pib_per_capita</th>\n",
       "      <th>generation</th>\n",
       "    </tr>\n",
       "  </thead>\n",
       "  <tbody>\n",
       "    <tr>\n",
       "      <th>0</th>\n",
       "      <td>Albania</td>\n",
       "      <td>1987</td>\n",
       "      <td>male</td>\n",
       "      <td>15-24 years</td>\n",
       "      <td>21</td>\n",
       "      <td>312900</td>\n",
       "      <td>6.71</td>\n",
       "      <td>Albania1987</td>\n",
       "      <td>NaN</td>\n",
       "      <td>2156624900</td>\n",
       "      <td>796</td>\n",
       "      <td>Generation X</td>\n",
       "    </tr>\n",
       "    <tr>\n",
       "      <th>1</th>\n",
       "      <td>Albania</td>\n",
       "      <td>1987</td>\n",
       "      <td>male</td>\n",
       "      <td>35-54 years</td>\n",
       "      <td>16</td>\n",
       "      <td>308000</td>\n",
       "      <td>5.19</td>\n",
       "      <td>Albania1987</td>\n",
       "      <td>NaN</td>\n",
       "      <td>2156624900</td>\n",
       "      <td>796</td>\n",
       "      <td>Silent</td>\n",
       "    </tr>\n",
       "    <tr>\n",
       "      <th>2</th>\n",
       "      <td>Albania</td>\n",
       "      <td>1987</td>\n",
       "      <td>female</td>\n",
       "      <td>15-24 years</td>\n",
       "      <td>14</td>\n",
       "      <td>289700</td>\n",
       "      <td>4.83</td>\n",
       "      <td>Albania1987</td>\n",
       "      <td>NaN</td>\n",
       "      <td>2156624900</td>\n",
       "      <td>796</td>\n",
       "      <td>Generation X</td>\n",
       "    </tr>\n",
       "    <tr>\n",
       "      <th>3</th>\n",
       "      <td>Albania</td>\n",
       "      <td>1987</td>\n",
       "      <td>male</td>\n",
       "      <td>75+ years</td>\n",
       "      <td>1</td>\n",
       "      <td>21800</td>\n",
       "      <td>4.59</td>\n",
       "      <td>Albania1987</td>\n",
       "      <td>NaN</td>\n",
       "      <td>2156624900</td>\n",
       "      <td>796</td>\n",
       "      <td>G.I. Generation</td>\n",
       "    </tr>\n",
       "    <tr>\n",
       "      <th>4</th>\n",
       "      <td>Albania</td>\n",
       "      <td>1987</td>\n",
       "      <td>male</td>\n",
       "      <td>25-34 years</td>\n",
       "      <td>9</td>\n",
       "      <td>274300</td>\n",
       "      <td>3.28</td>\n",
       "      <td>Albania1987</td>\n",
       "      <td>NaN</td>\n",
       "      <td>2156624900</td>\n",
       "      <td>796</td>\n",
       "      <td>Boomers</td>\n",
       "    </tr>\n",
       "  </tbody>\n",
       "</table>\n",
       "</div>"
      ],
      "text/plain": [
       "   country  year     sex          age  suicides_no  population  \\\n",
       "0  Albania  1987    male  15-24 years           21      312900   \n",
       "1  Albania  1987    male  35-54 years           16      308000   \n",
       "2  Albania  1987  female  15-24 years           14      289700   \n",
       "3  Albania  1987    male    75+ years            1       21800   \n",
       "4  Albania  1987    male  25-34 years            9      274300   \n",
       "\n",
       "   suicides_by_100k_pob country-year  HDI_for_year  pib_for_year  \\\n",
       "0                  6.71  Albania1987           NaN    2156624900   \n",
       "1                  5.19  Albania1987           NaN    2156624900   \n",
       "2                  4.83  Albania1987           NaN    2156624900   \n",
       "3                  4.59  Albania1987           NaN    2156624900   \n",
       "4                  3.28  Albania1987           NaN    2156624900   \n",
       "\n",
       "   pib_per_capita       generation  \n",
       "0             796     Generation X  \n",
       "1             796           Silent  \n",
       "2             796     Generation X  \n",
       "3             796  G.I. Generation  \n",
       "4             796          Boomers  "
      ]
     },
     "execution_count": 7,
     "metadata": {},
     "output_type": "execute_result"
    }
   ],
   "source": [
    "#el implace es un reemplazo definitivo mas no una copia \t\n",
    "suicides.head()"
   ]
  },
  {
   "cell_type": "code",
   "execution_count": 8,
   "id": "6e7e3c3e-34e3-4c45-8966-68a5168ecd87",
   "metadata": {},
   "outputs": [
    {
     "data": {
      "text/plain": [
       "Index(['country', 'year', 'sex', 'age', 'suicides_no', 'population',\n",
       "       'suicides_by_100k_pob', 'country-year', 'HDI_for_year', 'pib_for_year',\n",
       "       'pib_per_capita', 'generation'],\n",
       "      dtype='object')"
      ]
     },
     "execution_count": 8,
     "metadata": {},
     "output_type": "execute_result"
    }
   ],
   "source": [
    "\n",
    "suicides.columns\n"
   ]
  },
  {
   "cell_type": "code",
   "execution_count": 9,
   "id": "dde3646c-f2e4-464d-b2d2-1bf500d2fefe",
   "metadata": {},
   "outputs": [
    {
     "data": {
      "text/plain": [
       "country                  object\n",
       "year                      int64\n",
       "sex                      object\n",
       "age                      object\n",
       "suicides_no               int64\n",
       "population                int64\n",
       "suicides_by_100k_pob    float64\n",
       "country-year             object\n",
       "HDI_for_year            float64\n",
       "pib_for_year              int64\n",
       "pib_per_capita            int64\n",
       "generation               object\n",
       "dtype: object"
      ]
     },
     "execution_count": 9,
     "metadata": {},
     "output_type": "execute_result"
    }
   ],
   "source": [
    "#¿que tipos de datos son nuestras columnas?\n",
    "suicides.dtypes\n"
   ]
  },
  {
   "cell_type": "code",
   "execution_count": null,
   "id": "857d4d11-feba-4485-995b-068415bf9fcd",
   "metadata": {},
   "outputs": [],
   "source": [
    "#tenemos una descripcion general de nuestra tabla con caracteristicas como el conteo, la media, la desviacion estandar, el maximo y el minimo etc...\n",
    "suicides.describe()"
   ]
  },
  {
   "cell_type": "code",
   "execution_count": 10,
   "id": "85788437-bec7-4fe9-b655-91ff718f5d6a",
   "metadata": {},
   "outputs": [
    {
     "name": "stdout",
     "output_type": "stream",
     "text": [
      "Existen 0 valores nan para la variable 'year'\n",
      "Existen 0 valores nan para la variable 'suicides_no'\n",
      "Existen 0 valores nan para la variable 'population'\n",
      "Existen 0 valores nan para la variable 'suicides_by_100k_pob'\n",
      "Existen 19456 valores nan para la variable 'HDI_for_year'\n",
      "Existen 0 valores nan para la variable 'pib_per_capita'\n"
     ]
    }
   ],
   "source": [
    "#vamos a definir nuestros valores vacios (NaN), el .sum() hace una sumatoria de estos valores vacios \t\n",
    "print(f\"Existen {np.isnan(suicides.year).sum()} valores nan para la variable 'year'\")\n",
    "print(f\"Existen {np.isnan(suicides.suicides_no).sum()} valores nan para la variable 'suicides_no'\")\n",
    "print(f\"Existen {np.isnan(suicides.population).sum()} valores nan para la variable 'population'\")\n",
    "print(f\"Existen {np.isnan(suicides.suicides_by_100k_pob).sum()} valores nan para la variable 'suicides_by_100k_pob'\")\n",
    "print(f\"Existen {np.isnan(suicides.HDI_for_year).sum()} valores nan para la variable 'HDI_for_year'\")\n",
    "print(f\"Existen {np.isnan(suicides.pib_per_capita).sum()} valores nan para la variable 'pib_per_capita'\")"
   ]
  },
  {
   "cell_type": "code",
   "execution_count": 11,
   "id": "4f40a7bf-fb45-4771-ad2b-0d40b33db1b2",
   "metadata": {},
   "outputs": [],
   "source": [
    "#eliminamos esta variable axis 1 para nivel de columna y implace para eliminar directamente y no copiar o replicar \n",
    "suicides.drop('HDI_for_year', axis=1, inplace=True)"
   ]
  },
  {
   "cell_type": "code",
   "execution_count": 12,
   "id": "de735dce-bd4f-492b-939d-b63c5951645d",
   "metadata": {},
   "outputs": [
    {
     "data": {
      "text/plain": [
       "Index(['country', 'year', 'sex', 'age', 'suicides_no', 'population',\n",
       "       'suicides_by_100k_pob', 'country-year', 'pib_for_year',\n",
       "       'pib_per_capita', 'generation'],\n",
       "      dtype='object')"
      ]
     },
     "execution_count": 12,
     "metadata": {},
     "output_type": "execute_result"
    }
   ],
   "source": [
    "suicides.columns"
   ]
  },
  {
   "cell_type": "code",
   "execution_count": 13,
   "id": "e95b6640-a0e4-41fc-8176-ef3a10c6f379",
   "metadata": {},
   "outputs": [
    {
     "data": {
      "text/plain": [
       "<cassandra.cluster.ResultSet at 0x74577c5d0920>"
      ]
     },
     "execution_count": 13,
     "metadata": {},
     "output_type": "execute_result"
    }
   ],
   "source": [
    "# ## Creamos nuestro modelo de datos, comenzamos creando el keyspace y la tabla\n",
    "\n",
    "# In[18]:\n",
    "\n",
    "\n",
    "session.execute(\n",
    "    \"\"\"CREATE KEYSPACE IF NOT EXISTS PROYECTO WITH replication = {'class': 'SimpleStrategy', \n",
    "                                                    'replication_factor' : 1}; \"\"\"\n",
    ")"
   ]
  },
  {
   "cell_type": "code",
   "execution_count": 14,
   "id": "bc7314b1-a7c7-4592-b699-a1d4f30469df",
   "metadata": {},
   "outputs": [],
   "source": [
    "#usamos nuestro keyspace es decir que tenemos nuestra variable session apuntando a ese keyspace\t\n",
    "session.set_keyspace(\"proyecto\")"
   ]
  },
  {
   "cell_type": "code",
   "execution_count": 15,
   "id": "6b64ad21-c454-44f3-9f35-ad6ca472f915",
   "metadata": {},
   "outputs": [],
   "source": [
    "class Suicide(Model):\n",
    "    country = columns.Text(primary_key = True)\n",
    "    year = columns.Integer(primary_key = True)\n",
    "    sex  = columns.Text(primary_key = True)\n",
    "    age = columns.Text(primary_key = True, clustering_order=\"ASC\")\n",
    "    suicides_no = columns.Integer()\n",
    "    population = columns.BigInt()\n",
    "    suicides_by_100k_pob = columns.Float()\n",
    "    country_year = columns.Text()\n",
    "    pib_for_year = columns.BigInt()\n",
    "    pib_per_capita = columns.BigInt()\n",
    "    generation = columns.Text()"
   ]
  },
  {
   "cell_type": "code",
   "execution_count": 16,
   "id": "a7ca749a-fc59-4b31-b005-0bd51fab07fe",
   "metadata": {},
   "outputs": [
    {
     "name": "stderr",
     "output_type": "stream",
     "text": [
      "/home/cristian/anaconda3/lib/python3.12/site-packages/cassandra/cqlengine/management.py:544: UserWarning: CQLENG_ALLOW_SCHEMA_MANAGEMENT environment variable is not set. Future versions of this package will require this variable to enable management functions.\n",
      "  warnings.warn(msg)\n"
     ]
    }
   ],
   "source": [
    "#debemos registrar nuestra conexion le damos un nombre y le asignamos nuestra variable sesion \n",
    "connection.register_connection('cluster3', session=session)\n",
    "sync_table(Suicide, keyspaces=['proyecto'],connections=['cluster3'])"
   ]
  },
  {
   "cell_type": "code",
   "execution_count": 17,
   "id": "fe8ba08c-a75b-490f-8837-2f066023cfe2",
   "metadata": {},
   "outputs": [
    {
     "name": "stdout",
     "output_type": "stream",
     "text": [
      "{'column_name': 'age', 'kind': 'clustering', 'type': 'text'}\n",
      "{'column_name': 'country', 'kind': 'partition_key', 'type': 'text'}\n",
      "{'column_name': 'country_year', 'kind': 'regular', 'type': 'text'}\n",
      "{'column_name': 'generation', 'kind': 'regular', 'type': 'text'}\n",
      "{'column_name': 'pib_for_year', 'kind': 'regular', 'type': 'bigint'}\n",
      "{'column_name': 'pib_per_capita', 'kind': 'regular', 'type': 'bigint'}\n",
      "{'column_name': 'population', 'kind': 'regular', 'type': 'bigint'}\n",
      "{'column_name': 'sex', 'kind': 'clustering', 'type': 'text'}\n",
      "{'column_name': 'suicides_by_100k_pob', 'kind': 'regular', 'type': 'float'}\n",
      "{'column_name': 'suicides_no', 'kind': 'regular', 'type': 'int'}\n",
      "{'column_name': 'year', 'kind': 'clustering', 'type': 'int'}\n"
     ]
    }
   ],
   "source": [
    "#verificamos que nuestra tabla fue generada exitosamente \t\n",
    "for row in session.execute(\"\"\"select column_name, kind, type from system_schema.columns WHERE keyspace_name = 'proyecto' ;\"\"\"):\n",
    "    print(row)"
   ]
  },
  {
   "cell_type": "code",
   "execution_count": null,
   "id": "660cc8f5-a374-44e0-a414-c8a26e5ee9f8",
   "metadata": {},
   "outputs": [],
   "source": [
    "# ### Vamos a insertar los datos de suicidio en la tabla"
   ]
  },
  {
   "cell_type": "code",
   "execution_count": 18,
   "id": "060b44f6-2ad1-4c8e-984b-bc81ef43e977",
   "metadata": {},
   "outputs": [],
   "source": [
    "#vamos a 'volcar' los datos de nuestro dataframe en la tabla cassandra que acabamos de crear, esto lo haremos de manera secuencial fila a fila \n",
    "#por medio de un bucle for\n",
    "#la variable index viene por defecto en el dataframe pero esta no se va a agregar en la base de datos \n",
    "#la '%s' equivale a los values fuera de la sentencia cql\n",
    "#podemos limitar la cantidad de tuplas o registros que queremos pasar a nuestra base de datos con el metodo del dataframe suicides.head(n)\n",
    "for index,value in suicides.iterrows():\n",
    "    session.execute(\"\"\" INSERT INTO proyecto.suicide (country, year, sex, age, country_year, generation,  \n",
    "                            pib_for_year, pib_per_capita, population,  suicides_by_100k_pob, \n",
    "                            suicides_no)\n",
    "                        VALUES (%s, %s, %s, %s, %s, %s, %s, %s, %s, %s, %s)\"\"\",\n",
    "                   (value['country'], value['year'], value['sex'], value['age'], \n",
    "                   value['country-year'], value['generation'], value['pib_for_year'], value['pib_per_capita'], \n",
    "                   value['population'], value['suicides_by_100k_pob'], value['suicides_no']) )"
   ]
  },
  {
   "cell_type": "code",
   "execution_count": 19,
   "id": "7bfa05c2-fba4-409d-87f8-dfc5150cff43",
   "metadata": {},
   "outputs": [
    {
     "name": "stdout",
     "output_type": "stream",
     "text": [
      "{'country': 'Ecuador', 'year': 1985, 'sex': 'female', 'age': '15-24 years', 'country_year': 'Ecuador1985', 'generation': 'Generation X', 'pib_for_year': 17149094590, 'pib_per_capita': 2238, 'population': 897700, 'suicides_by_100k_pob': 6.460000038146973, 'suicides_no': 58}\n",
      "{'country': 'Ecuador', 'year': 1985, 'sex': 'female', 'age': '25-34 years', 'country_year': 'Ecuador1985', 'generation': 'Boomers', 'pib_for_year': 17149094590, 'pib_per_capita': 2238, 'population': 600800, 'suicides_by_100k_pob': 5.159999847412109, 'suicides_no': 31}\n",
      "{'country': 'Ecuador', 'year': 1985, 'sex': 'female', 'age': '35-54 years', 'country_year': 'Ecuador1985', 'generation': 'Silent', 'pib_for_year': 17149094590, 'pib_per_capita': 2238, 'population': 692800, 'suicides_by_100k_pob': 2.1700000762939453, 'suicides_no': 15}\n",
      "{'country': 'Ecuador', 'year': 1985, 'sex': 'female', 'age': '5-14 years', 'country_year': 'Ecuador1985', 'generation': 'Generation X', 'pib_for_year': 17149094590, 'pib_per_capita': 2238, 'population': 1262600, 'suicides_by_100k_pob': 0.3199999928474426, 'suicides_no': 4}\n",
      "{'country': 'Ecuador', 'year': 1985, 'sex': 'female', 'age': '55-74 years', 'country_year': 'Ecuador1985', 'generation': 'G.I. Generation', 'pib_for_year': 17149094590, 'pib_per_capita': 2238, 'population': 303000, 'suicides_by_100k_pob': 1.3200000524520874, 'suicides_no': 4}\n",
      "{'country': 'Ecuador', 'year': 1985, 'sex': 'female', 'age': '75+ years', 'country_year': 'Ecuador1985', 'generation': 'G.I. Generation', 'pib_for_year': 17149094590, 'pib_per_capita': 2238, 'population': 49000, 'suicides_by_100k_pob': 4.079999923706055, 'suicides_no': 2}\n",
      "{'country': 'Ecuador', 'year': 1985, 'sex': 'male', 'age': '15-24 years', 'country_year': 'Ecuador1985', 'generation': 'Generation X', 'pib_for_year': 17149094590, 'pib_per_capita': 2238, 'population': 915700, 'suicides_by_100k_pob': 11.359999656677246, 'suicides_no': 104}\n",
      "{'country': 'Ecuador', 'year': 1985, 'sex': 'male', 'age': '25-34 years', 'country_year': 'Ecuador1985', 'generation': 'Boomers', 'pib_for_year': 17149094590, 'pib_per_capita': 2238, 'population': 610800, 'suicides_by_100k_pob': 11.460000038146973, 'suicides_no': 70}\n",
      "{'country': 'Ecuador', 'year': 1985, 'sex': 'male', 'age': '35-54 years', 'country_year': 'Ecuador1985', 'generation': 'Silent', 'pib_for_year': 17149094590, 'pib_per_capita': 2238, 'population': 692800, 'suicides_by_100k_pob': 8.229999542236328, 'suicides_no': 57}\n",
      "{'country': 'Ecuador', 'year': 1985, 'sex': 'male', 'age': '5-14 years', 'country_year': 'Ecuador1985', 'generation': 'Generation X', 'pib_for_year': 17149094590, 'pib_per_capita': 2238, 'population': 1307600, 'suicides_by_100k_pob': 0.5400000214576721, 'suicides_no': 7}\n",
      "{'country': 'Ecuador', 'year': 1985, 'sex': 'male', 'age': '55-74 years', 'country_year': 'Ecuador1985', 'generation': 'G.I. Generation', 'pib_for_year': 17149094590, 'pib_per_capita': 2238, 'population': 289000, 'suicides_by_100k_pob': 11.420000076293945, 'suicides_no': 33}\n",
      "{'country': 'Ecuador', 'year': 1985, 'sex': 'male', 'age': '75+ years', 'country_year': 'Ecuador1985', 'generation': 'G.I. Generation', 'pib_for_year': 17149094590, 'pib_per_capita': 2238, 'population': 40000, 'suicides_by_100k_pob': 20.0, 'suicides_no': 8}\n",
      "{'country': 'Ecuador', 'year': 1986, 'sex': 'female', 'age': '15-24 years', 'country_year': 'Ecuador1986', 'generation': 'Generation X', 'pib_for_year': 15314143988, 'pib_per_capita': 1943, 'population': 923500, 'suicides_by_100k_pob': 8.010000228881836, 'suicides_no': 74}\n",
      "{'country': 'Ecuador', 'year': 1986, 'sex': 'female', 'age': '25-34 years', 'country_year': 'Ecuador1986', 'generation': 'Boomers', 'pib_for_year': 15314143988, 'pib_per_capita': 1943, 'population': 618000, 'suicides_by_100k_pob': 4.53000020980835, 'suicides_no': 28}\n",
      "{'country': 'Ecuador', 'year': 1986, 'sex': 'female', 'age': '35-54 years', 'country_year': 'Ecuador1986', 'generation': 'Silent', 'pib_for_year': 15314143988, 'pib_per_capita': 1943, 'population': 712600, 'suicides_by_100k_pob': 1.6799999475479126, 'suicides_no': 12}\n",
      "{'country': 'Ecuador', 'year': 1986, 'sex': 'female', 'age': '5-14 years', 'country_year': 'Ecuador1986', 'generation': 'Generation X', 'pib_for_year': 15314143988, 'pib_per_capita': 1943, 'population': 1298800, 'suicides_by_100k_pob': 0.46000000834465027, 'suicides_no': 6}\n",
      "{'country': 'Ecuador', 'year': 1986, 'sex': 'female', 'age': '55-74 years', 'country_year': 'Ecuador1986', 'generation': 'G.I. Generation', 'pib_for_year': 15314143988, 'pib_per_capita': 1943, 'population': 311800, 'suicides_by_100k_pob': 2.25, 'suicides_no': 7}\n",
      "{'country': 'Ecuador', 'year': 1986, 'sex': 'female', 'age': '75+ years', 'country_year': 'Ecuador1986', 'generation': 'G.I. Generation', 'pib_for_year': 15314143988, 'pib_per_capita': 1943, 'population': 50400, 'suicides_by_100k_pob': 7.940000057220459, 'suicides_no': 4}\n",
      "{'country': 'Ecuador', 'year': 1986, 'sex': 'male', 'age': '15-24 years', 'country_year': 'Ecuador1986', 'generation': 'Generation X', 'pib_for_year': 15314143988, 'pib_per_capita': 1943, 'population': 941900, 'suicides_by_100k_pob': 9.239999771118164, 'suicides_no': 87}\n",
      "{'country': 'Ecuador', 'year': 1986, 'sex': 'male', 'age': '25-34 years', 'country_year': 'Ecuador1986', 'generation': 'Boomers', 'pib_for_year': 15314143988, 'pib_per_capita': 1943, 'population': 628400, 'suicides_by_100k_pob': 10.65999984741211, 'suicides_no': 67}\n"
     ]
    }
   ],
   "source": [
    "#podemos saber que tipo de variable es nuestra variable rows con el comando type(my_rows)\t\n",
    "all_rows = session.execute(\"\"\"SELECT * FROM proyecto.suicide\"\"\")\n",
    "\n",
    "for row in all_rows[:20]:\n",
    "    print(row)"
   ]
  },
  {
   "cell_type": "code",
   "execution_count": 20,
   "id": "a088785c-2c30-411d-b206-e5d75ed4204e",
   "metadata": {},
   "outputs": [
    {
     "name": "stdout",
     "output_type": "stream",
     "text": [
      "En Ecuador en el año 1985 hubo 58 suicidios de genero female con edades comprendidas en 15-24 years \n",
      "En Ecuador en el año 1985 hubo 31 suicidios de genero female con edades comprendidas en 25-34 years \n",
      "En Ecuador en el año 1985 hubo 15 suicidios de genero female con edades comprendidas en 35-54 years \n",
      "En Ecuador en el año 1985 hubo 4 suicidios de genero female con edades comprendidas en 5-14 years \n",
      "En Ecuador en el año 1985 hubo 4 suicidios de genero female con edades comprendidas en 55-74 years \n",
      "En Ecuador en el año 1985 hubo 2 suicidios de genero female con edades comprendidas en 75+ years \n",
      "En Ecuador en el año 1985 hubo 104 suicidios de genero male con edades comprendidas en 15-24 years \n",
      "En Ecuador en el año 1985 hubo 70 suicidios de genero male con edades comprendidas en 25-34 years \n",
      "En Ecuador en el año 1985 hubo 57 suicidios de genero male con edades comprendidas en 35-54 years \n",
      "En Ecuador en el año 1985 hubo 7 suicidios de genero male con edades comprendidas en 5-14 years \n",
      "En Ecuador en el año 1985 hubo 33 suicidios de genero male con edades comprendidas en 55-74 years \n",
      "En Ecuador en el año 1985 hubo 8 suicidios de genero male con edades comprendidas en 75+ years \n",
      "En Ecuador en el año 1986 hubo 74 suicidios de genero female con edades comprendidas en 15-24 years \n",
      "En Ecuador en el año 1986 hubo 28 suicidios de genero female con edades comprendidas en 25-34 years \n",
      "En Ecuador en el año 1986 hubo 12 suicidios de genero female con edades comprendidas en 35-54 years \n",
      "En Ecuador en el año 1986 hubo 6 suicidios de genero female con edades comprendidas en 5-14 years \n",
      "En Ecuador en el año 1986 hubo 7 suicidios de genero female con edades comprendidas en 55-74 years \n",
      "En Ecuador en el año 1986 hubo 4 suicidios de genero female con edades comprendidas en 75+ years \n",
      "En Ecuador en el año 1986 hubo 87 suicidios de genero male con edades comprendidas en 15-24 years \n",
      "En Ecuador en el año 1986 hubo 67 suicidios de genero male con edades comprendidas en 25-34 years \n"
     ]
    }
   ],
   "source": [
    "for row in all_rows[0:20]:\n",
    "    print(f\"\"\"En {row['country']} en el año {row['year']} hubo {row['suicides_no']} suicidios de genero {row['sex']} con edades comprendidas en {row['age']} \"\"\")"
   ]
  },
  {
   "cell_type": "code",
   "execution_count": 21,
   "id": "0b7145e5-ba16-4469-b457-3e379b18bb18",
   "metadata": {},
   "outputs": [],
   "source": [
    "# Ejecutar la consulta\n",
    "num_paises = session.execute(\"\"\"SELECT country FROM suicide\"\"\")\n",
    "\n",
    "# Acumular resultados en una lista\n",
    "rows = [row for row in num_paises]\n",
    "\n",
    "# Crear el DataFrame\n",
    "df_num_paises = pd.DataFrame(rows, columns=[\"country\"])\n"
   ]
  },
  {
   "cell_type": "code",
   "execution_count": 22,
   "id": "193d6ba5-09d2-4b6f-9adc-15be58bcfe88",
   "metadata": {},
   "outputs": [
    {
     "data": {
      "text/html": [
       "<div>\n",
       "<style scoped>\n",
       "    .dataframe tbody tr th:only-of-type {\n",
       "        vertical-align: middle;\n",
       "    }\n",
       "\n",
       "    .dataframe tbody tr th {\n",
       "        vertical-align: top;\n",
       "    }\n",
       "\n",
       "    .dataframe thead th {\n",
       "        text-align: right;\n",
       "    }\n",
       "</style>\n",
       "<table border=\"1\" class=\"dataframe\">\n",
       "  <thead>\n",
       "    <tr style=\"text-align: right;\">\n",
       "      <th></th>\n",
       "      <th>country</th>\n",
       "    </tr>\n",
       "  </thead>\n",
       "  <tbody>\n",
       "    <tr>\n",
       "      <th>0</th>\n",
       "      <td>Ecuador</td>\n",
       "    </tr>\n",
       "    <tr>\n",
       "      <th>1</th>\n",
       "      <td>Ecuador</td>\n",
       "    </tr>\n",
       "    <tr>\n",
       "      <th>2</th>\n",
       "      <td>Ecuador</td>\n",
       "    </tr>\n",
       "    <tr>\n",
       "      <th>3</th>\n",
       "      <td>Ecuador</td>\n",
       "    </tr>\n",
       "    <tr>\n",
       "      <th>4</th>\n",
       "      <td>Ecuador</td>\n",
       "    </tr>\n",
       "  </tbody>\n",
       "</table>\n",
       "</div>"
      ],
      "text/plain": [
       "   country\n",
       "0  Ecuador\n",
       "1  Ecuador\n",
       "2  Ecuador\n",
       "3  Ecuador\n",
       "4  Ecuador"
      ]
     },
     "execution_count": 22,
     "metadata": {},
     "output_type": "execute_result"
    }
   ],
   "source": [
    "df_num_paises.head()"
   ]
  },
  {
   "cell_type": "code",
   "execution_count": 23,
   "id": "0b353dbf-8667-4a00-8e5b-e56ef82d7a93",
   "metadata": {},
   "outputs": [
    {
     "ename": "InvalidRequest",
     "evalue": "Error from server: code=2200 [Invalid query] message=\"Cannot execute this query as it might involve data filtering and thus may have unpredictable performance. If you want to execute this query despite the performance unpredictability, use ALLOW FILTERING\"",
     "output_type": "error",
     "traceback": [
      "\u001b[0;31m---------------------------------------------------------------------------\u001b[0m",
      "\u001b[0;31mInvalidRequest\u001b[0m                            Traceback (most recent call last)",
      "Cell \u001b[0;32mIn[23], line 1\u001b[0m\n\u001b[0;32m----> 1\u001b[0m suicide_greater_250 \u001b[38;5;241m=\u001b[39m session\u001b[38;5;241m.\u001b[39mexecute(\u001b[38;5;124m\"\"\"\u001b[39m\u001b[38;5;124m SELECT * FROM suicide WHERE suicides_no > 250\u001b[39m\u001b[38;5;124m\"\"\"\u001b[39m)\n",
      "File \u001b[0;32m~/anaconda3/lib/python3.12/site-packages/cassandra/cluster.py:2677\u001b[0m, in \u001b[0;36mcassandra.cluster.Session.execute\u001b[0;34m()\u001b[0m\n",
      "File \u001b[0;32m~/anaconda3/lib/python3.12/site-packages/cassandra/cluster.py:4956\u001b[0m, in \u001b[0;36mcassandra.cluster.ResponseFuture.result\u001b[0;34m()\u001b[0m\n",
      "\u001b[0;31mInvalidRequest\u001b[0m: Error from server: code=2200 [Invalid query] message=\"Cannot execute this query as it might involve data filtering and thus may have unpredictable performance. If you want to execute this query despite the performance unpredictability, use ALLOW FILTERING\""
     ]
    }
   ],
   "source": [
    "suicide_greater_250 = session.execute(\"\"\" SELECT * FROM suicide WHERE suicides_no > 250\"\"\")"
   ]
  },
  {
   "cell_type": "code",
   "execution_count": 24,
   "id": "190a5ee8-b752-419d-9516-bf9d97fcc2c4",
   "metadata": {},
   "outputs": [],
   "source": [
    "#de este modo no tendriamos problema \t\n",
    "suicide_greater_250 = session.execute(\"\"\" SELECT * FROM suicide WHERE suicides_no > 250 ALLOW FILTERING\"\"\")\n",
    "rows = [row for row in suicide_greater_250]\n",
    "\n",
    "df_suicide_greater = pd.DataFrame(rows)"
   ]
  },
  {
   "cell_type": "code",
   "execution_count": 25,
   "id": "9a8a662b-d8d5-4806-bf33-5e3218054b68",
   "metadata": {},
   "outputs": [
    {
     "data": {
      "text/html": [
       "<div>\n",
       "<style scoped>\n",
       "    .dataframe tbody tr th:only-of-type {\n",
       "        vertical-align: middle;\n",
       "    }\n",
       "\n",
       "    .dataframe tbody tr th {\n",
       "        vertical-align: top;\n",
       "    }\n",
       "\n",
       "    .dataframe thead th {\n",
       "        text-align: right;\n",
       "    }\n",
       "</style>\n",
       "<table border=\"1\" class=\"dataframe\">\n",
       "  <thead>\n",
       "    <tr style=\"text-align: right;\">\n",
       "      <th></th>\n",
       "      <th>country</th>\n",
       "      <th>year</th>\n",
       "      <th>sex</th>\n",
       "      <th>age</th>\n",
       "      <th>country_year</th>\n",
       "      <th>generation</th>\n",
       "      <th>pib_for_year</th>\n",
       "      <th>pib_per_capita</th>\n",
       "      <th>population</th>\n",
       "      <th>suicides_by_100k_pob</th>\n",
       "      <th>suicides_no</th>\n",
       "    </tr>\n",
       "  </thead>\n",
       "  <tbody>\n",
       "    <tr>\n",
       "      <th>0</th>\n",
       "      <td>Spain</td>\n",
       "      <td>1985</td>\n",
       "      <td>female</td>\n",
       "      <td>55-74 years</td>\n",
       "      <td>Spain1985</td>\n",
       "      <td>G.I. Generation</td>\n",
       "      <td>180302412231</td>\n",
       "      <td>5009</td>\n",
       "      <td>3683300</td>\n",
       "      <td>7.520000</td>\n",
       "      <td>277</td>\n",
       "    </tr>\n",
       "    <tr>\n",
       "      <th>1</th>\n",
       "      <td>Spain</td>\n",
       "      <td>1985</td>\n",
       "      <td>male</td>\n",
       "      <td>35-54 years</td>\n",
       "      <td>Spain1985</td>\n",
       "      <td>Silent</td>\n",
       "      <td>180302412231</td>\n",
       "      <td>5009</td>\n",
       "      <td>4471200</td>\n",
       "      <td>11.120000</td>\n",
       "      <td>497</td>\n",
       "    </tr>\n",
       "    <tr>\n",
       "      <th>2</th>\n",
       "      <td>Spain</td>\n",
       "      <td>1985</td>\n",
       "      <td>male</td>\n",
       "      <td>55-74 years</td>\n",
       "      <td>Spain1985</td>\n",
       "      <td>G.I. Generation</td>\n",
       "      <td>180302412231</td>\n",
       "      <td>5009</td>\n",
       "      <td>3115900</td>\n",
       "      <td>20.030001</td>\n",
       "      <td>624</td>\n",
       "    </tr>\n",
       "    <tr>\n",
       "      <th>3</th>\n",
       "      <td>Spain</td>\n",
       "      <td>1985</td>\n",
       "      <td>male</td>\n",
       "      <td>75+ years</td>\n",
       "      <td>Spain1985</td>\n",
       "      <td>G.I. Generation</td>\n",
       "      <td>180302412231</td>\n",
       "      <td>5009</td>\n",
       "      <td>691500</td>\n",
       "      <td>44.110001</td>\n",
       "      <td>305</td>\n",
       "    </tr>\n",
       "    <tr>\n",
       "      <th>4</th>\n",
       "      <td>Spain</td>\n",
       "      <td>1986</td>\n",
       "      <td>female</td>\n",
       "      <td>55-74 years</td>\n",
       "      <td>Spain1986</td>\n",
       "      <td>G.I. Generation</td>\n",
       "      <td>250638463467</td>\n",
       "      <td>6919</td>\n",
       "      <td>3738800</td>\n",
       "      <td>8.050000</td>\n",
       "      <td>301</td>\n",
       "    </tr>\n",
       "  </tbody>\n",
       "</table>\n",
       "</div>"
      ],
      "text/plain": [
       "  country  year     sex          age country_year       generation  \\\n",
       "0   Spain  1985  female  55-74 years    Spain1985  G.I. Generation   \n",
       "1   Spain  1985    male  35-54 years    Spain1985           Silent   \n",
       "2   Spain  1985    male  55-74 years    Spain1985  G.I. Generation   \n",
       "3   Spain  1985    male    75+ years    Spain1985  G.I. Generation   \n",
       "4   Spain  1986  female  55-74 years    Spain1986  G.I. Generation   \n",
       "\n",
       "   pib_for_year  pib_per_capita  population  suicides_by_100k_pob  suicides_no  \n",
       "0  180302412231            5009     3683300              7.520000          277  \n",
       "1  180302412231            5009     4471200             11.120000          497  \n",
       "2  180302412231            5009     3115900             20.030001          624  \n",
       "3  180302412231            5009      691500             44.110001          305  \n",
       "4  250638463467            6919     3738800              8.050000          301  "
      ]
     },
     "execution_count": 25,
     "metadata": {},
     "output_type": "execute_result"
    }
   ],
   "source": [
    "df_suicide_greater.head()"
   ]
  },
  {
   "cell_type": "code",
   "execution_count": null,
   "id": "bb2ba060-e211-449a-99cb-56e978496256",
   "metadata": {},
   "outputs": [],
   "source": [
    "\n",
    "#creamos un indice secundario \n",
    "session.execute(\"\"\" CREATE INDEX IF NOT EXISTS sex_suicide ON suicide (sex)\"\"\")"
   ]
  },
  {
   "cell_type": "code",
   "execution_count": null,
   "id": "e33ece80-2255-4dd2-bbde-768ffb69bb4d",
   "metadata": {},
   "outputs": [],
   "source": [
    "#con nuestro indice secundario ya podemos filtrar por campos no pertenecientes a la primary key \t\n",
    "female_suicides = session.execute(\"\"\" SELECT * FROM suicide WHERE sex = 'female'\"\"\")"
   ]
  },
  {
   "cell_type": "code",
   "execution_count": null,
   "id": "56fde88c-4676-434b-9a98-525769cf8c72",
   "metadata": {},
   "outputs": [],
   "source": [
    "\n",
    "rows = [row for row in female_suicides]\n",
    "\n",
    "df_female_suicides = pd.DataFrame(rows)"
   ]
  },
  {
   "cell_type": "code",
   "execution_count": null,
   "id": "af920f45-0e2c-4e31-8fd1-fab0586c6e7c",
   "metadata": {},
   "outputs": [],
   "source": [
    "df_female_suicides.head()"
   ]
  },
  {
   "cell_type": "code",
   "execution_count": null,
   "id": "d13cfed7-06c2-45be-93e0-c33df833ef83",
   "metadata": {},
   "outputs": [],
   "source": [
    "# #### ¿Cómo crear una vista materializada para poder filtrar por el campo generation y conteniendo unicamente los registros de paises con poblacion mayor a 10 millones de personas?\n",
    "# \n",
    "\n",
    "# In[43]:\n",
    "\n",
    "#creamos nuestra vista materializada es decir nuestra tabla proveniente de una consulta \n",
    "#las vistas materializadas no pueden tener nulos en las primary keys \n",
    "#le damos permiso a nuestra variable generacion para que se pueda filtrar, el resto de variables ya son primary key \n",
    "session.execute(\"\"\"\n",
    "    CREATE MATERIALIZED VIEW suicides_by_generation AS\n",
    "        SELECT * FROM proyecto.suicide\n",
    "        WHERE generation is not null and country is not null and \n",
    "        year is not null and age is not null and sex is not null and\n",
    "        population > 10000000\n",
    "        PRIMARY KEY (generation, country, year, age, sex)\n",
    "    WITH comment='Vista materializada de generation';\n",
    "\"\"\")"
   ]
  },
  {
   "cell_type": "code",
   "execution_count": null,
   "id": "60c54807-b4dd-405f-9376-86dd5b91ccff",
   "metadata": {},
   "outputs": [],
   "source": [
    "#consultamos nuestra vista materializada como si fuera una tabla mas \n",
    "generation_x = session.execute(\"\"\"SELECT * FROM suicides_by_generation WHERE generation = 'Generation X'\"\"\")\n"
   ]
  },
  {
   "cell_type": "code",
   "execution_count": null,
   "id": "d6193350-ac53-45e5-bbd6-d9ec30f1bf5a",
   "metadata": {},
   "outputs": [],
   "source": []
  }
 ],
 "metadata": {
  "kernelspec": {
   "display_name": "Python 3 (ipykernel)",
   "language": "python",
   "name": "python3"
  },
  "language_info": {
   "codemirror_mode": {
    "name": "ipython",
    "version": 3
   },
   "file_extension": ".py",
   "mimetype": "text/x-python",
   "name": "python",
   "nbconvert_exporter": "python",
   "pygments_lexer": "ipython3",
   "version": "3.12.4"
  }
 },
 "nbformat": 4,
 "nbformat_minor": 5
}
